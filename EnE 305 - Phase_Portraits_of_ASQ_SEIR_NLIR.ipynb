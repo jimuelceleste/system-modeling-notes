{
  "nbformat": 4,
  "nbformat_minor": 0,
  "metadata": {
    "colab": {
      "name": "EnE 305 - Phase Portraits of ASQ-SEIR-NLIR.ipynb",
      "provenance": [],
      "collapsed_sections": [],
      "authorship_tag": "ABX9TyNVd+R9BNMq+BOU60RH2bwb",
      "include_colab_link": true
    },
    "kernelspec": {
      "name": "python3",
      "display_name": "Python 3"
    },
    "language_info": {
      "name": "python"
    }
  },
  "cells": [
    {
      "cell_type": "markdown",
      "metadata": {
        "id": "view-in-github",
        "colab_type": "text"
      },
      "source": [
        "<a href=\"https://colab.research.google.com/github/jimuelceleste/system-modeling-notes/blob/main/EnE%20305%20-%20Phase_Portraits_of_ASQ_SEIR_NLIR.ipynb\" target=\"_parent\"><img src=\"https://colab.research.google.com/assets/colab-badge.svg\" alt=\"Open In Colab\"/></a>"
      ]
    },
    {
      "cell_type": "code",
      "source": [
        "import numpy as np\n",
        "import pandas as pd\n",
        "import matplotlib.pyplot as plt "
      ],
      "metadata": {
        "id": "V0aTrQhArfVG"
      },
      "execution_count": null,
      "outputs": []
    },
    {
      "cell_type": "markdown",
      "source": [
        "# ASQ-SEIR-NLIR Model"
      ],
      "metadata": {
        "id": "F1_q3a0WufVb"
      }
    },
    {
      "cell_type": "code",
      "execution_count": null,
      "metadata": {
        "id": "QTSlipBKrXH3"
      },
      "outputs": [],
      "source": [
        "# ASQ-SEIR-NLIR Model \n",
        "\n",
        "def get_asq_seir_nlir(params):\n",
        "    beta = params[\"beta\"]\n",
        "    sigma = params[\"sigma\"]\n",
        "    gamma = params[\"gamma\"]\n",
        "    q = params[\"q\"]\n",
        "    u = params[\"u\"]\n",
        "    alpha = params[\"alpha\"]\n",
        "    epsilon = params[\"epsilon\"]\n",
        "  \n",
        "    def asq_seir_nlir(t, y):\n",
        "        s, e, i, r = y\n",
        "        n = sum(y)\n",
        "        return np.array([\n",
        "            (-beta * q * s * i / n) / ((1 + alpha * s / n) * (1 + epsilon * i / n)), \n",
        "            ((beta * q * s * i / n) / ((1 + alpha * s / n) * (1 + epsilon * i / n))) - sigma * u * e, \n",
        "            sigma * u * e - gamma * i, \n",
        "            gamma * i\n",
        "        ])\n",
        "    return asq_seir_nlir\n",
        "\n",
        "def r_naught(params):\n",
        "    beta = params[\"beta\"]\n",
        "    gamma = params[\"gamma\"]\n",
        "    q = params[\"q\"]\n",
        "    alpha = params[\"alpha\"]\n",
        "   \n",
        "    return (beta * q) / (gamma * (1 + alpha))"
      ]
    },
    {
      "cell_type": "markdown",
      "source": [
        "# Runge-Kutta Method 4th Order (RK4)"
      ],
      "metadata": {
        "id": "GojqSO94uh9H"
      }
    },
    {
      "cell_type": "code",
      "source": [
        "# RK4 \n",
        "\n",
        "def rk4(f, h, t0, y0):\n",
        "    k1 = f(t0, y0)\n",
        "    k2 = f(t0 + h/2, y0 + h * k1/2)\n",
        "    k3 = f(t0 + h/2, y0 + h * k2/2)\n",
        "    k4 = f(t0 + h, y0 + h * k3)\n",
        "    return y0 + 1/6 * h * (k1 + 2*k2 + 2*k3 + k4)\n",
        "\n",
        "def solve_ode_with_rk4(f, h, t0, y0, tn): \n",
        "    y = [y0]\n",
        "    yi = y0\n",
        "    t = [t0] \n",
        "    ti = t0 \n",
        "\n",
        "    while ti <= tn:\n",
        "        yi = rk4(f, h, ti, yi) \n",
        "        ti += h \n",
        "        y.append(yi)\n",
        "        t.append(ti)\n",
        "    \n",
        "    return y, t "
      ],
      "metadata": {
        "id": "3_bCdaewrn8W"
      },
      "execution_count": null,
      "outputs": []
    },
    {
      "cell_type": "markdown",
      "source": [
        "# Demo: SEIR Graphs + Trajectory in Phase Plane"
      ],
      "metadata": {
        "id": "tQbv0AqOumMv"
      }
    },
    {
      "cell_type": "markdown",
      "source": [
        "## $R_0 > 1$ "
      ],
      "metadata": {
        "id": "kLgMH-gmxPAU"
      }
    },
    {
      "cell_type": "code",
      "source": [
        "params = {\n",
        "    \"beta\": 3.12,\n",
        "    \"sigma\": 0.28,\n",
        "    \"gamma\": 0.33, \n",
        "    \"q\": 0.2,\n",
        "    \"u\": 0.03,\n",
        "    \"alpha\": 0.36,\n",
        "    \"epsilon\": 0.7\n",
        "}\n",
        "\n",
        "f = get_asq_seir_nlir(params)\n",
        "\n",
        "seir0 = np.array([1, 0.05, 0.01, 0]) #y0\n",
        "stepsize = 0.25 # h\n",
        "tn = 1000 # tn\n",
        "t0 = 0\n",
        "seir, time = solve_ode_with_rk4(f, stepsize, t0, seir0, tn)\n",
        "seir = pd.DataFrame(seir, columns=[\"S\",\"E\",\"I\",\"R\"])\n",
        "\n",
        "colors={\n",
        "    \"S\": \"g\", \n",
        "    \"E\": \"C1\", \n",
        "    \"I\": \"r\", \n",
        "    \"R\": \"k\"\n",
        "}\n",
        "\n",
        "for state in \"SEIR\":\n",
        "    plt.figure(state)\n",
        "    plt.title(state)\n",
        "    plt.plot(time, seir[state], color=colors[state])\n",
        "    plt.legend()"
      ],
      "metadata": {
        "colab": {
          "base_uri": "https://localhost:8080/",
          "height": 1000
        },
        "id": "EUpbIse7shuW",
        "outputId": "216b814c-fd15-4ad5-cc7c-28c88a411f4b"
      },
      "execution_count": null,
      "outputs": [
        {
          "output_type": "stream",
          "name": "stderr",
          "text": [
            "No handles with labels found to put in legend.\n",
            "No handles with labels found to put in legend.\n",
            "No handles with labels found to put in legend.\n",
            "No handles with labels found to put in legend.\n"
          ]
        },
        {
          "output_type": "display_data",
          "data": {
            "text/plain": [
              "<Figure size 432x288 with 1 Axes>"
            ],
            "image/png": "[encoded data removed]"
          },
          "metadata": {
            "needs_background": "light"
          }
        },
        {
          "output_type": "display_data",
          "data": {
            "text/plain": [
              "<Figure size 432x288 with 1 Axes>"
            ],
            "image/png": "[encoded data removed]"
          },
          "metadata": {
            "needs_background": "light"
          }
        },
        {
          "output_type": "display_data",
          "data": {
            "text/plain": [
              "<Figure size 432x288 with 1 Axes>"
            ],
            "image/png": "[encoded data removed]"
          },
          "metadata": {
            "needs_background": "light"
          }
        },
        {
          "output_type": "display_data",
          "data": {
            "text/plain": [
              "<Figure size 432x288 with 1 Axes>"
            ],
            "image/png": "[encoded data removed]"
          },
          "metadata": {
            "needs_background": "light"
          }
        }
      ]
    },
    {
      "cell_type": "code",
      "source": [
        "seir[[\"S\", \"I\"]]"
      ],
      "metadata": {
        "colab": {
          "base_uri": "https://localhost:8080/",
          "height": 424
        },
        "id": "5h1ls5xguddH",
        "outputId": "e6817591-4347-4392-917a-1bceedcbcf42"
      },
      "execution_count": null,
      "outputs": [
        {
          "output_type": "execute_result",
          "data": {
            "text/plain": [
              "             S         I\n",
              "0     1.000000  0.010000\n",
              "1     0.998947  0.009310\n",
              "2     0.997966  0.008676\n",
              "3     0.997052  0.008094\n",
              "4     0.996200  0.007560\n",
              "...        ...       ...\n",
              "3997  0.397780  0.000749\n",
              "3998  0.397741  0.000749\n",
              "3999  0.397703  0.000748\n",
              "4000  0.397664  0.000748\n",
              "4001  0.397626  0.000747\n",
              "\n",
              "[4002 rows x 2 columns]"
            ],
            "text/html": [
              "\n",
              "  <div id=\"df-9247ee5a-2ed5-4b34-99c4-e35bce2ec326\">\n",
              "    <div class=\"colab-df-container\">\n",
              "      <div>\n",
              "<style scoped>\n",
              "    .dataframe tbody tr th:only-of-type {\n",
              "        vertical-align: middle;\n",
              "    }\n",
              "\n",
              "    .dataframe tbody tr th {\n",
              "        vertical-align: top;\n",
              "    }\n",
              "\n",
              "    .dataframe thead th {\n",
              "        text-align: right;\n",
              "    }\n",
              "</style>\n",
              "<table border=\"1\" class=\"dataframe\">\n",
              "  <thead>\n",
              "    <tr style=\"text-align: right;\">\n",
              "      <th></th>\n",
              "      <th>S</th>\n",
              "      <th>I</th>\n",
              "    </tr>\n",
              "  </thead>\n",
              "  <tbody>\n",
              "    <tr>\n",
              "      <th>0</th>\n",
              "      <td>1.000000</td>\n",
              "      <td>0.010000</td>\n",
              "    </tr>\n",
              "    <tr>\n",
              "      <th>1</th>\n",
              "      <td>0.998947</td>\n",
              "      <td>0.009310</td>\n",
              "    </tr>\n",
              "    <tr>\n",
              "      <th>2</th>\n",
              "      <td>0.997966</td>\n",
              "      <td>0.008676</td>\n",
              "    </tr>\n",
              "    <tr>\n",
              "      <th>3</th>\n",
              "      <td>0.997052</td>\n",
              "      <td>0.008094</td>\n",
              "    </tr>\n",
              "    <tr>\n",
              "      <th>4</th>\n",
              "      <td>0.996200</td>\n",
              "      <td>0.007560</td>\n",
              "    </tr>\n",
              "    <tr>\n",
              "      <th>...</th>\n",
              "      <td>...</td>\n",
              "      <td>...</td>\n",
              "    </tr>\n",
              "    <tr>\n",
              "      <th>3997</th>\n",
              "      <td>0.397780</td>\n",
              "      <td>0.000749</td>\n",
              "    </tr>\n",
              "    <tr>\n",
              "      <th>3998</th>\n",
              "      <td>0.397741</td>\n",
              "      <td>0.000749</td>\n",
              "    </tr>\n",
              "    <tr>\n",
              "      <th>3999</th>\n",
              "      <td>0.397703</td>\n",
              "      <td>0.000748</td>\n",
              "    </tr>\n",
              "    <tr>\n",
              "      <th>4000</th>\n",
              "      <td>0.397664</td>\n",
              "      <td>0.000748</td>\n",
              "    </tr>\n",
              "    <tr>\n",
              "      <th>4001</th>\n",
              "      <td>0.397626</td>\n",
              "      <td>0.000747</td>\n",
              "    </tr>\n",
              "  </tbody>\n",
              "</table>\n",
              "<p>4002 rows × 2 columns</p>\n",
              "</div>\n",
              "      <button class=\"colab-df-convert\" onclick=\"convertToInteractive('df-9247ee5a-2ed5-4b34-99c4-e35bce2ec326')\"\n",
              "              title=\"Convert this dataframe to an interactive table.\"\n",
              "              style=\"display:none;\">\n",
              "        \n",
              "  <svg xmlns=\"http://www.w3.org/2000/svg\" height=\"24px\"viewBox=\"0 0 24 24\"\n",
              "       width=\"24px\">\n",
              "    <path d=\"M0 0h24v24H0V0z\" fill=\"none\"/>\n",
              "    <path d=\"M18.56 5.44l.94 2.06.94-2.06 2.06-.94-2.06-.94-.94-2.06-.94 2.06-2.06.94zm-11 1L8.5 8.5l.94-2.06 2.06-.94-2.06-.94L8.5 2.5l-.94 2.06-2.06.94zm10 10l.94 2.06.94-2.06 2.06-.94-2.06-.94-.94-2.06-.94 2.06-2.06.94z\"/><path d=\"M17.41 7.96l-1.37-1.37c-.4-.4-.92-.59-1.43-.59-.52 0-1.04.2-1.43.59L10.3 9.45l-7.72 7.72c-.78.78-.78 2.05 0 2.83L4 21.41c.39.39.9.59 1.41.59.51 0 1.02-.2 1.41-.59l7.78-7.78 2.81-2.81c.8-.78.8-2.07 0-2.86zM5.41 20L4 18.59l7.72-7.72 1.47 1.35L5.41 20z\"/>\n",
              "  </svg>\n",
              "      </button>\n",
              "      \n",
              "  <style>\n",
              "    .colab-df-container {\n",
              "      display:flex;\n",
              "      flex-wrap:wrap;\n",
              "      gap: 12px;\n",
              "    }\n",
              "\n",
              "    .colab-df-convert {\n",
              "      background-color: #E8F0FE;\n",
              "      border: none;\n",
              "      border-radius: 50%;\n",
              "      cursor: pointer;\n",
              "      display: none;\n",
              "      fill: #1967D2;\n",
              "      height: 32px;\n",
              "      padding: 0 0 0 0;\n",
              "      width: 32px;\n",
              "    }\n",
              "\n",
              "    .colab-df-convert:hover {\n",
              "      background-color: #E2EBFA;\n",
              "      box-shadow: 0px 1px 2px rgba(60, 64, 67, 0.3), 0px 1px 3px 1px rgba(60, 64, 67, 0.15);\n",
              "      fill: #174EA6;\n",
              "    }\n",
              "\n",
              "    [theme=dark] .colab-df-convert {\n",
              "      background-color: #3B4455;\n",
              "      fill: #D2E3FC;\n",
              "    }\n",
              "\n",
              "    [theme=dark] .colab-df-convert:hover {\n",
              "      background-color: #434B5C;\n",
              "      box-shadow: 0px 1px 3px 1px rgba(0, 0, 0, 0.15);\n",
              "      filter: drop-shadow(0px 1px 2px rgba(0, 0, 0, 0.3));\n",
              "      fill: #FFFFFF;\n",
              "    }\n",
              "  </style>\n",
              "\n",
              "      <script>\n",
              "        const buttonEl =\n",
              "          document.querySelector('#df-9247ee5a-2ed5-4b34-99c4-e35bce2ec326 button.colab-df-convert');\n",
              "        buttonEl.style.display =\n",
              "          google.colab.kernel.accessAllowed ? 'block' : 'none';\n",
              "\n",
              "        async function convertToInteractive(key) {\n",
              "          const element = document.querySelector('#df-9247ee5a-2ed5-4b34-99c4-e35bce2ec326');\n",
              "          const dataTable =\n",
              "            await google.colab.kernel.invokeFunction('convertToInteractive',\n",
              "                                                     [key], {});\n",
              "          if (!dataTable) return;\n",
              "\n",
              "          const docLinkHtml = 'Like what you see? Visit the ' +\n",
              "            '<a target=\"_blank\" href=https://colab.research.google.com/notebooks/data_table.ipynb>data table notebook</a>'\n",
              "            + ' to learn more about interactive tables.';\n",
              "          element.innerHTML = '';\n",
              "          dataTable['output_type'] = 'display_data';\n",
              "          await google.colab.output.renderOutput(dataTable, element);\n",
              "          const docLink = document.createElement('div');\n",
              "          docLink.innerHTML = docLinkHtml;\n",
              "          element.appendChild(docLink);\n",
              "        }\n",
              "      </script>\n",
              "    </div>\n",
              "  </div>\n",
              "  "
            ]
          },
          "metadata": {},
          "execution_count": 5
        }
      ]
    },
    {
      "cell_type": "code",
      "source": [
        "plt.figure()\n",
        "plt.xlabel(\"Susceptible\")\n",
        "plt.ylabel(\"Infectious\")\n",
        "plt.plot(seir[\"S\"], seir[\"I\"], label=\"R_0 = %0.02f\" % (r_naught(params)))\n",
        "plt.legend()"
      ],
      "metadata": {
        "colab": {
          "base_uri": "https://localhost:8080/",
          "height": 297
        },
        "id": "LDAL7ycNvG2W",
        "outputId": "bc28edae-037c-43c3-cd72-6ed92ab07ea2"
      },
      "execution_count": null,
      "outputs": [
        {
          "output_type": "execute_result",
          "data": {
            "text/plain": [
              "<matplotlib.legend.Legend at 0x7f085f354150>"
            ]
          },
          "metadata": {},
          "execution_count": 6
        },
        {
          "output_type": "display_data",
          "data": {
            "text/plain": [
              "<Figure size 432x288 with 1 Axes>"
            ],
            "image/png": "[encoded data removed]"
          },
          "metadata": {
            "needs_background": "light"
          }
        }
      ]
    },
    {
      "cell_type": "markdown",
      "source": [
        "## $R_0 = 1$"
      ],
      "metadata": {
        "id": "joayKELExabE"
      }
    },
    {
      "cell_type": "code",
      "source": [
        "params = {\n",
        "    \"beta\": 1,\n",
        "    \"sigma\": 0.28,\n",
        "    \"gamma\": 0.5, \n",
        "    \"q\": 0.5,\n",
        "    \"u\": 0.03,\n",
        "    \"alpha\": 0,\n",
        "    \"epsilon\": 0.7\n",
        "}\n",
        "\n",
        "f = get_asq_seir_nlir(params)\n",
        "\n",
        "seir0 = np.array([1, 0.05, 0.01, 0]) #y0\n",
        "stepsize = 1 # h\n",
        "tn = 1000 # tn\n",
        "t0 = 0\n",
        "seir, time = solve_ode_with_rk4(f, stepsize, t0, seir0, tn)\n",
        "seir = pd.DataFrame(seir, columns=[\"S\",\"E\",\"I\",\"R\"])\n",
        "\n",
        "plt.figure()\n",
        "plt.xlabel(\"Susceptible\")\n",
        "plt.ylabel(\"Infectious\")\n",
        "plt.plot(seir[\"S\"], seir[\"I\"], label=\"R_0 = %0.02f\" % (r_naught(params)))\n",
        "plt.legend()"
      ],
      "metadata": {
        "colab": {
          "base_uri": "https://localhost:8080/",
          "height": 297
        },
        "id": "kfqt8C2awTBh",
        "outputId": "895adee0-5376-4ebc-8245-eba7ff719ece"
      },
      "execution_count": null,
      "outputs": [
        {
          "output_type": "execute_result",
          "data": {
            "text/plain": [
              "<matplotlib.legend.Legend at 0x7f085f309390>"
            ]
          },
          "metadata": {},
          "execution_count": 7
        },
        {
          "output_type": "display_data",
          "data": {
            "text/plain": [
              "<Figure size 432x288 with 1 Axes>"
            ],
            "image/png": "[encoded data removed]"
          },
          "metadata": {
            "needs_background": "light"
          }
        }
      ]
    },
    {
      "cell_type": "markdown",
      "source": [
        "## $R_0 < 1$"
      ],
      "metadata": {
        "id": "0grfDenMyAJ6"
      }
    },
    {
      "cell_type": "code",
      "source": [
        "params = {\n",
        "    \"beta\": 0.5,\n",
        "    \"sigma\": 0.28,\n",
        "    \"gamma\": 1, \n",
        "    \"q\": 1,\n",
        "    \"u\": 0.03,\n",
        "    \"alpha\": 0,\n",
        "    \"epsilon\": 0.7\n",
        "}\n",
        "\n",
        "f = get_asq_seir_nlir(params)\n",
        "\n",
        "seir0 = np.array([1, 0.05, 0.01, 0]) #y0\n",
        "stepsize = 0.25 # h\n",
        "tn = 1000 # tn\n",
        "t0 = 0\n",
        "seir, time = solve_ode_with_rk4(f, stepsize, t0, seir0, tn)\n",
        "seir = pd.DataFrame(seir, columns=[\"S\",\"E\",\"I\",\"R\"])\n",
        "\n",
        "plt.figure()\n",
        "plt.xlabel(\"Susceptible\")\n",
        "plt.ylabel(\"Infectious\")\n",
        "plt.plot(seir[\"S\"], seir[\"I\"], label=\"R_0 = %0.02f\" % (r_naught(params)))\n",
        "plt.legend()"
      ],
      "metadata": {
        "colab": {
          "base_uri": "https://localhost:8080/",
          "height": 297
        },
        "id": "CuMTbmHryCcB",
        "outputId": "82835434-f6c9-4ae1-9e16-3033b7878f9f"
      },
      "execution_count": null,
      "outputs": [
        {
          "output_type": "execute_result",
          "data": {
            "text/plain": [
              "<matplotlib.legend.Legend at 0x7f085f81cd10>"
            ]
          },
          "metadata": {},
          "execution_count": 8
        },
        {
          "output_type": "display_data",
          "data": {
            "text/plain": [
              "<Figure size 432x288 with 1 Axes>"
            ],
            "image/png": "[encoded data removed]"
          },
          "metadata": {
            "needs_background": "light"
          }
        }
      ]
    },
    {
      "cell_type": "markdown",
      "source": [
        "# $R_0 = \\infty$"
      ],
      "metadata": {
        "id": "t5E-TMZ_SJ-g"
      }
    },
    {
      "cell_type": "code",
      "source": [
        "params = {\n",
        "    \"beta\": 3.12,\n",
        "    \"sigma\": 0.28,\n",
        "    \"gamma\": 0, \n",
        "    \"q\": 0.2,\n",
        "    \"u\": 0.03,\n",
        "    \"alpha\": 0.36,\n",
        "    \"epsilon\": 0.7\n",
        "}\n",
        "\n",
        "f = get_asq_seir_nlir(params)\n",
        "\n",
        "seir0 = np.array([1, 0.05, 0.01, 0]) #y0\n",
        "stepsize = 0.25 # h\n",
        "tn = 1000 # tn\n",
        "t0 = 0\n",
        "seir, time = solve_ode_with_rk4(f, stepsize, t0, seir0, tn)\n",
        "seir = pd.DataFrame(seir, columns=[\"S\",\"E\",\"I\",\"R\"])\n",
        "\n",
        "plt.figure()\n",
        "plt.xlabel(\"Susceptible\")\n",
        "plt.ylabel(\"Infectious\")\n",
        "plt.plot(seir[\"S\"], seir[\"I\"], label=\"R_0 = infinity\")\n",
        "plt.legend()"
      ],
      "metadata": {
        "colab": {
          "base_uri": "https://localhost:8080/",
          "height": 297
        },
        "id": "g2qdlvR0R-O8",
        "outputId": "3ed081b7-d666-46db-bd87-d2201f052c23"
      },
      "execution_count": null,
      "outputs": [
        {
          "output_type": "execute_result",
          "data": {
            "text/plain": [
              "<matplotlib.legend.Legend at 0x7f085f27c090>"
            ]
          },
          "metadata": {},
          "execution_count": 10
        },
        {
          "output_type": "display_data",
          "data": {
            "text/plain": [
              "<Figure size 432x288 with 1 Axes>"
            ],
            "image/png": "[encoded data removed]"
          },
          "metadata": {
            "needs_background": "light"
          }
        }
      ]
    },
    {
      "cell_type": "markdown",
      "source": [
        "## $R_0 > 1$, $R_0 = 1$, and $R_0 < 1$"
      ],
      "metadata": {
        "id": "8uYp5F7dzZUV"
      }
    },
    {
      "cell_type": "code",
      "source": [
        "stepsize = 0.25 # h\n",
        "tn = 2000 # tn\n",
        "t0 = 0\n",
        "seir0 = np.array([0.98, 0.01, 0.01, 0]) #y0\n",
        "\n",
        "plt.figure(figsize=(10, 8))\n",
        "plt.xlabel(\"Susceptible\")\n",
        "plt.ylabel(\"Infectious\")\n",
        "\n",
        "style = \"v-\"\n",
        "\n",
        "# R0 > 1\n",
        "params = {\n",
        "    \"beta\": 3.12,\n",
        "    \"sigma\": 0.28,\n",
        "    \"gamma\": 0.33, \n",
        "    \"q\": 0.2,\n",
        "    \"u\": 0.03,\n",
        "    \"alpha\": 0.36,\n",
        "    \"epsilon\": 0.7\n",
        "}\n",
        "f = get_asq_seir_nlir(params)\n",
        "seir, time = solve_ode_with_rk4(f, stepsize, t0, seir0, tn)\n",
        "seir = pd.DataFrame(seir, columns=[\"S\",\"E\",\"I\",\"R\"])\n",
        "plt.plot(seir[\"S\"], seir[\"I\"], style, label=\"R_0 = %0.02f\" % (r_naught(params)))\n",
        "\n",
        "# R0 = 1\n",
        "params = {\n",
        "    \"beta\": 1,\n",
        "    \"sigma\": 0.28,\n",
        "    \"gamma\": 0.5, \n",
        "    \"q\": 0.5,\n",
        "    \"u\": 0.03,\n",
        "    \"alpha\": 0,\n",
        "    \"epsilon\": 0.7\n",
        "}\n",
        "f = get_asq_seir_nlir(params)\n",
        "seir, time = solve_ode_with_rk4(f, stepsize, t0, seir0, tn)\n",
        "seir = pd.DataFrame(seir, columns=[\"S\",\"E\",\"I\",\"R\"])\n",
        "plt.plot(seir[\"S\"], seir[\"I\"], style, label=\"R_0 = %0.02f\" % (r_naught(params)))\n",
        "\n",
        "# R0 < 1\n",
        "params = {\n",
        "    \"beta\": 0.5,\n",
        "    \"sigma\": 0.28,\n",
        "    \"gamma\": 1, \n",
        "    \"q\": 1,\n",
        "    \"u\": 0.03,\n",
        "    \"alpha\": 0,\n",
        "    \"epsilon\": 0.7\n",
        "}\n",
        "f = get_asq_seir_nlir(params)\n",
        "seir, time = solve_ode_with_rk4(f, stepsize, t0, seir0, tn)\n",
        "seir = pd.DataFrame(seir, columns=[\"S\",\"E\",\"I\",\"R\"])\n",
        "plt.plot(seir[\"S\"], seir[\"I\"], style, label=\"R_0 = %0.02f\" % (r_naught(params)))\n",
        "\n",
        "plt.legend()"
      ],
      "metadata": {
        "colab": {
          "base_uri": "https://localhost:8080/",
          "height": 515
        },
        "id": "2wwsTVggzgjo",
        "outputId": "1ad7106e-429e-422d-e8cd-44af49edd5ac"
      },
      "execution_count": null,
      "outputs": [
        {
          "output_type": "execute_result",
          "data": {
            "text/plain": [
              "<matplotlib.legend.Legend at 0x7fc87c355110>"
            ]
          },
          "metadata": {},
          "execution_count": 103
        },
        {
          "output_type": "display_data",
          "data": {
            "text/plain": [
              "<Figure size 720x576 with 1 Axes>"
            ],
            "image/png": "[encoded data removed]"
          },
          "metadata": {
            "needs_background": "light"
          }
        }
      ]
    },
    {
      "cell_type": "markdown",
      "source": [
        "# Demo: Gamma (removal rate) is zero.\n"
      ],
      "metadata": {
        "id": "1BhigUzN28Eb"
      }
    },
    {
      "cell_type": "code",
      "source": [
        "stepsize = 0.25 # h\n",
        "tn = 700 # tn\n",
        "t0 = 0\n",
        "seir0 = np.array([0.98, 0.01, 0.01, 0]) #y0\n",
        "\n",
        "plt.figure(figsize=(10, 8))\n",
        "plt.xlabel(\"Susceptible\")\n",
        "plt.ylabel(\"Infectious\")\n",
        "\n",
        "style = \"v-r\"\n",
        "\n",
        "params = {\n",
        "    \"beta\": 3.12,\n",
        "    \"sigma\": 0.28,\n",
        "    \"gamma\": 0, \n",
        "    \"q\": 0.2,\n",
        "    \"u\": 0.03,\n",
        "    \"alpha\": 0.36,\n",
        "    \"epsilon\": 0.7\n",
        "}\n",
        "f = get_asq_seir_nlir(params)\n",
        "seir, time = solve_ode_with_rk4(f, stepsize, t0, seir0, tn)\n",
        "seir = pd.DataFrame(seir, columns=[\"S\",\"E\",\"I\",\"R\"])\n",
        "plt.plot(seir[\"S\"], seir[\"I\"], style, label=\"R_0 = infty\")"
      ],
      "metadata": {
        "colab": {
          "base_uri": "https://localhost:8080/",
          "height": 515
        },
        "id": "A5NMMjxX3A99",
        "outputId": "d90670a6-ae67-47f7-d5c5-1999bc79d31a"
      },
      "execution_count": null,
      "outputs": [
        {
          "output_type": "execute_result",
          "data": {
            "text/plain": [
              "[<matplotlib.lines.Line2D at 0x7fc87cea84d0>]"
            ]
          },
          "metadata": {},
          "execution_count": 113
        },
        {
          "output_type": "display_data",
          "data": {
            "text/plain": [
              "<Figure size 720x576 with 1 Axes>"
            ],
            "image/png": "[encoded data removed]"
          },
          "metadata": {
            "needs_background": "light"
          }
        }
      ]
    }
  ]
}