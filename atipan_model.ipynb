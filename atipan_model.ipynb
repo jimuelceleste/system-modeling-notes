{
 "cells": [
  {
   "cell_type": "markdown",
   "id": "18cc8ccf",
   "metadata": {},
   "source": [
    "# Model\n",
    "Attempt to design a model describing consultation rate, patient registration, and doctors:\n",
    "\n",
    "$$\\frac{dC}{dt} = \\alpha D P$$\n",
    "$$\\frac{dP}{dt} = \\beta (1 - \\frac{P}{K}) P$$\n",
    "$$\\frac{dD}{dt} = 0$$\n",
    "\n",
    "where C = number of consultations, P = number of patients, D = number of doctors, $\\alpha$ = interaction/consultation rate, $\\beta$ = patient registration rate.\n",
    "\n",
    "The Patient compartment is the Logistic Equation since we know the ceiling (K=5646).\n",
    "The Doctor compartment is constant (no change, zero).\n",
    "The Consultation compartment is a simple interaction between the doctors and patients with $\\alpha$ as the growth rate(?)."
   ]
  },
  {
   "cell_type": "code",
   "execution_count": 1,
   "id": "eb140763",
   "metadata": {},
   "outputs": [],
   "source": [
    "import numpy as np\n",
    "import pandas as pd "
   ]
  },
  {
   "cell_type": "code",
   "execution_count": 2,
   "id": "0a574038",
   "metadata": {},
   "outputs": [],
   "source": [
    "# The model\n",
    "def get_model(alpha, beta, K):\n",
    "    def model(t, y):\n",
    "        C, P, D = y\n",
    "        dCdt = alpha * D * P \n",
    "        dPdt = beta * (1 - P / K) * P \n",
    "        dDdt = 0\n",
    "\n",
    "        return np.array([dCdt, dPdt, dDdt])\n",
    "    return model"
   ]
  },
  {
   "cell_type": "code",
   "execution_count": 3,
   "id": "ffb4016b",
   "metadata": {},
   "outputs": [],
   "source": [
    "# Runge-Kutta 4th order\n",
    "def rk4(f, h, t0, y0):\n",
    "    k1 = f(t0, y0)\n",
    "    k2 = f(t0 + h/2, y0 + h * k1/2)\n",
    "    k3 = f(t0 + h/2, y0 + h * k2/2)\n",
    "    k4 = f(t0 + h, y0 + h * k3)\n",
    "    return y0 + 1/6 * h * (k1 + 2*k2 + 2*k3 + k4)"
   ]
  },
  {
   "cell_type": "code",
   "execution_count": 4,
   "id": "6511c8d0",
   "metadata": {},
   "outputs": [
    {
     "data": {
      "text/html": [
       "<div>\n",
       "<style scoped>\n",
       "    .dataframe tbody tr th:only-of-type {\n",
       "        vertical-align: middle;\n",
       "    }\n",
       "\n",
       "    .dataframe tbody tr th {\n",
       "        vertical-align: top;\n",
       "    }\n",
       "\n",
       "    .dataframe thead th {\n",
       "        text-align: right;\n",
       "    }\n",
       "</style>\n",
       "<table border=\"1\" class=\"dataframe\">\n",
       "  <thead>\n",
       "    <tr style=\"text-align: right;\">\n",
       "      <th></th>\n",
       "      <th>consultations</th>\n",
       "      <th>patients</th>\n",
       "      <th>doctors</th>\n",
       "    </tr>\n",
       "  </thead>\n",
       "  <tbody>\n",
       "    <tr>\n",
       "      <th>0</th>\n",
       "      <td>0</td>\n",
       "      <td>1</td>\n",
       "      <td>17</td>\n",
       "    </tr>\n",
       "    <tr>\n",
       "      <th>1</th>\n",
       "      <td>0.003486</td>\n",
       "      <td>1.051262</td>\n",
       "      <td>17.0</td>\n",
       "    </tr>\n",
       "    <tr>\n",
       "      <th>2</th>\n",
       "      <td>0.007152</td>\n",
       "      <td>1.10515</td>\n",
       "      <td>17.0</td>\n",
       "    </tr>\n",
       "    <tr>\n",
       "      <th>3</th>\n",
       "      <td>0.011005</td>\n",
       "      <td>1.161801</td>\n",
       "      <td>17.0</td>\n",
       "    </tr>\n",
       "    <tr>\n",
       "      <th>4</th>\n",
       "      <td>0.015055</td>\n",
       "      <td>1.221355</td>\n",
       "      <td>17.0</td>\n",
       "    </tr>\n",
       "    <tr>\n",
       "      <th>...</th>\n",
       "      <td>...</td>\n",
       "      <td>...</td>\n",
       "      <td>...</td>\n",
       "    </tr>\n",
       "    <tr>\n",
       "      <th>519</th>\n",
       "      <td>6646.29167</td>\n",
       "      <td>5645.999829</td>\n",
       "      <td>17.0</td>\n",
       "    </tr>\n",
       "    <tr>\n",
       "      <th>520</th>\n",
       "      <td>6665.48807</td>\n",
       "      <td>5645.999837</td>\n",
       "      <td>17.0</td>\n",
       "    </tr>\n",
       "    <tr>\n",
       "      <th>521</th>\n",
       "      <td>6684.684469</td>\n",
       "      <td>5645.999845</td>\n",
       "      <td>17.0</td>\n",
       "    </tr>\n",
       "    <tr>\n",
       "      <th>522</th>\n",
       "      <td>6703.880869</td>\n",
       "      <td>5645.999853</td>\n",
       "      <td>17.0</td>\n",
       "    </tr>\n",
       "    <tr>\n",
       "      <th>523</th>\n",
       "      <td>6723.077268</td>\n",
       "      <td>5645.99986</td>\n",
       "      <td>17.0</td>\n",
       "    </tr>\n",
       "  </tbody>\n",
       "</table>\n",
       "<p>524 rows × 3 columns</p>\n",
       "</div>"
      ],
      "text/plain": [
       "    consultations     patients doctors\n",
       "0               0            1      17\n",
       "1        0.003486     1.051262    17.0\n",
       "2        0.007152      1.10515    17.0\n",
       "3        0.011005     1.161801    17.0\n",
       "4        0.015055     1.221355    17.0\n",
       "..            ...          ...     ...\n",
       "519    6646.29167  5645.999829    17.0\n",
       "520    6665.48807  5645.999837    17.0\n",
       "521   6684.684469  5645.999845    17.0\n",
       "522   6703.880869  5645.999853    17.0\n",
       "523   6723.077268   5645.99986    17.0\n",
       "\n",
       "[524 rows x 3 columns]"
      ]
     },
     "execution_count": 4,
     "metadata": {},
     "output_type": "execute_result"
    }
   ],
   "source": [
    "# Sample simulation \n",
    "model = get_model(alpha=0.0002, beta=0.05, K=5646)\n",
    "cpd_storage = pd.DataFrame(columns=['consultations', 'patients', 'doctors'])\n",
    "h = 1 # step size\n",
    "\n",
    "c = 0 # 0 consultations\n",
    "p = 1 # 1 patient\n",
    "d = 17 # 17 doctors \n",
    "cpd = [c, p, d]\n",
    "\n",
    "tn = 523 # 523 days from June 1, 2022 is November 15, 2023, end of contract\n",
    "t = 0\n",
    "time = []\n",
    "\n",
    "while t <= tn: \n",
    "    time.append(t)\n",
    "    cpd_storage.at[t] = cpd\n",
    "    cpd = rk4(model, h, t, cpd)\n",
    "    t += h\n",
    "\n",
    "cpd_storage"
   ]
  },
  {
   "cell_type": "code",
   "execution_count": 5,
   "id": "0eaad5f5",
   "metadata": {},
   "outputs": [
    {
     "data": {
      "text/plain": [
       "<AxesSubplot: >"
      ]
     },
     "execution_count": 5,
     "metadata": {},
     "output_type": "execute_result"
    },
    {
     "data": {
      "image/png": "[encoded data removed]",
      "text/plain": [
       "<Figure size 432x288 with 1 Axes>"
      ]
     },
     "metadata": {
      "needs_background": "light"
     },
     "output_type": "display_data"
    }
   ],
   "source": [
    "cpd_storage.plot()"
   ]
  },
  {
   "cell_type": "markdown",
   "id": "9af99014",
   "metadata": {},
   "source": [
    "## Next steps:\n",
    "\n",
    "- Curve fitting \n",
    "- Projections"
   ]
  },
  {
   "cell_type": "code",
   "execution_count": null,
   "id": "22040ecc",
   "metadata": {},
   "outputs": [],
   "source": []
  }
 ],
 "metadata": {
  "kernelspec": {
   "display_name": "Python 3",
   "language": "python",
   "name": "python3"
  },
  "language_info": {
   "codemirror_mode": {
    "name": "ipython",
    "version": 3
   },
   "file_extension": ".py",
   "mimetype": "text/x-python",
   "name": "python",
   "nbconvert_exporter": "python",
   "pygments_lexer": "ipython3",
   "version": "3.8.8"
  }
 },
 "nbformat": 4,
 "nbformat_minor": 5
}
