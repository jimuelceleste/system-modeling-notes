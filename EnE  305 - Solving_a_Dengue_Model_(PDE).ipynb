{
  "cells": [
    {
      "cell_type": "markdown",
      "id": "1e84408c",
      "metadata": {
        "id": "1e84408c"
      },
      "source": [
        "# Diffusion-Reaction SEIR-SEI Dengue Spread Model \n",
        "\n",
        "M.K. Enduri and S. Jolad, 2018, “Dynamics of dengue disease with human and vector mobility,” Spatial and Spatio-temporal Epidemiology, 25, pp. 57–66, https://doi.org/10.1016/j.sste.2018.03.001\n",
        "\n",
        "Human\n",
        "\n",
        "$ \\frac{\\delta s_h}{\\delta t} = D_h \\nabla^2 s_h + \\mu_h n_h - \\beta_{vh} s_h i_v - \\mu_h s_h$\n",
        "\n",
        "$ \\frac{\\delta e_h}{\\delta t} = D_h \\nabla^2 e_h + \\beta_{vh} s_h i_v - \\alpha_h e_h - \\mu_h e_h$\n",
        "\n",
        "$ \\frac{\\delta i_h}{\\delta t} = D_h \\nabla^2 i_h + \\alpha_h e_h - r_h i_h - \\mu_h i_h$\n",
        "\n",
        "$ \\frac{\\delta r_h}{\\delta t} = D_h \\nabla^2 r_h + r i_h - \\mu_h i_h$\n",
        "\n",
        "Vector \n",
        "\n",
        "$ \\frac{\\delta s_v}{\\delta t} = D_v \\nabla^2 s_v + \\mu_v n_v - \\beta_{hv} s_v i_h - \\mu_v s_v$\n",
        "\n",
        "$ \\frac{\\delta e_v}{\\delta t} = D_v \\nabla^2 e_v + \\beta_{hv} s_v i_h - \\alpha_v e_v - \\mu_v e_v$\n",
        "\n",
        "$ \\frac{\\delta i_v}{\\delta t} = D_v \\nabla^2 i_v + \\alpha_v e_v - r_v i_v - \\mu_v i_v$"
      ]
    },
    {
      "cell_type": "code",
      "source": [
        "import numpy as np\n",
        "import matplotlib.pyplot as plt"
      ],
      "metadata": {
        "id": "IlAPg4YLzKtP"
      },
      "id": "IlAPg4YLzKtP",
      "execution_count": null,
      "outputs": []
    },
    {
      "cell_type": "markdown",
      "id": "badd1146",
      "metadata": {
        "id": "badd1146"
      },
      "source": [
        "# Solving by Finite Difference Method"
      ]
    },
    {
      "cell_type": "code",
      "execution_count": null,
      "id": "1c8b5945",
      "metadata": {
        "id": "1c8b5945"
      },
      "outputs": [],
      "source": [
        "def get_f(D_v, D_h, mu_h, mu_v, beta_hv, beta_vh, r, alpha_h, alpha_v):\n",
        "    def diffusion_term(soln, i, j, dx, dy, state):\n",
        "        # Finite Difference Approximation of the 2D Laplacian Operator\n",
        "        x_term = (soln[i+1][j][state] - 2 * soln[i][j][state] + soln[i-1][j][state]) / (dx ** 2)\n",
        "        y_term = (soln[i][j+1][state] - 2 * soln[i][j][state] + soln[i][j-1][state]) / (dy ** 2)\n",
        "        return x_term + y_term\n",
        "    \n",
        "    def f(soln, i, j, dx, dy):\n",
        "        # Human SEIR\n",
        "        s_h = soln[i][j][0]\n",
        "        e_h = soln[i][j][1]\n",
        "        i_h = soln[i][j][2]\n",
        "        r_h = soln[i][j][3]\n",
        "        n_h = s_h + e_h + i_h + r_h\n",
        "\n",
        "        # Vector SEI\n",
        "        s_v = soln[i][j][4]\n",
        "        e_v = soln[i][j][5]\n",
        "        i_v = soln[i][j][6]\n",
        "        n_v = s_v + e_v + i_v\n",
        "\n",
        "       \n",
        "        return np.array([\n",
        "            # Humans\n",
        "            D_h * diffusion_term(soln, i, j, dx, dy, 0) + mu_h * n_h - beta_vh * s_h * i_v - mu_h * s_h,\n",
        "            D_h * diffusion_term(soln, i, j, dx, dy, 1) + beta_vh * s_h * i_v - alpha_h * e_h - mu_h * e_h,\n",
        "            D_h * diffusion_term(soln, i, j, dx, dy, 2) + alpha_h * e_h - r * i_h - mu_h * i_h,\n",
        "            D_h * diffusion_term(soln, i, j, dx, dy, 3) + r * i_h - mu_h * r_h,\n",
        "            # Vectors \n",
        "            D_v * diffusion_term(soln, i, j, dx, dy, 4) + mu_v * n_v - beta_hv * s_v * i_h - mu_v * s_v, \n",
        "            D_v * diffusion_term(soln, i, j, dx, dy, 5) + beta_hv * s_v * i_h - alpha_v * e_v - mu_v * e_v, \n",
        "            D_v * diffusion_term(soln, i, j, dx, dy, 6) + alpha_v * e_v - r * i_v - mu_v * i_v\n",
        "        ])\n",
        "        \n",
        "    return f\n",
        "\n",
        "def get_compartment_values(matrix, compartment_id, row, col):\n",
        "    # matrix - storage \n",
        "    # compartment_id - s_h=0, e_h=1, i_h=2, r_h=3, s_v=4, e_v=5, i_v=6\n",
        "    return [[matrix[i][j][compartment_id] for j in range(col)] for i in range(row)]\n",
        "\n",
        "def get_compartment_total(matrix, compartment_id, row, col):\n",
        "    total = 0\n",
        "    for i in range(row):\n",
        "        for j in range(col):\n",
        "            total += matrix[i][j][compartment_id]\n",
        "    return total\n",
        "\n",
        "# Parameter Values\n",
        "D_v = 0.2           # Diffusion Coefficient (vector)\n",
        "D_h = 200 * D_v     # Diffusion Coefficient (humans)\n",
        "mu_h = 0.0000391    # Death rate of humans\n",
        "mu_v = 0.07142      # Death rate of vectors\n",
        "beta_hv = 0.00392   # Infection rate from human to vector\n",
        "beta_vh = 0.0245    # Infection rate from vector to human\n",
        "r = 0.07142         # Recovery rate of human population\n",
        "alpha_h = 0.2       # Rate at which exposed human change to be infected human\n",
        "alpha_v = 0.1       # Rate at which exposed vector change to be infected vector\n",
        "\n",
        "# Function f \n",
        "f = get_f(D_v, D_h, mu_h, mu_v, beta_hv, beta_vh, r, alpha_h, alpha_v)\n",
        "\n",
        "# Time and Space \n",
        "row = 500           # rows\n",
        "col = 500           # columns\n",
        "dt = 0.5              # time step size\n",
        "dx = 1              # x step size\n",
        "dy = 1              # y step size"
      ]
    },
    {
      "cell_type": "code",
      "source": [
        "# Initial Value: Human and Vectors\n",
        "human_per_cell = 10\n",
        "vector_per_cell = 10\n",
        "\n",
        "# Instantiating the initial value storage\n",
        "initial = [[np.array([human_per_cell, 0, 0, 0, vector_per_cell, 0, 0]) for j in range(col)] for i in range(row)]\n",
        "\n",
        "# Populating the middle cells (middle -+ 5) with infectious vectors\n",
        "infected_vector_per_cell = 5\n",
        "for i in range(row // 2 - 5, row // 2 + 5):\n",
        "    for j in range(row // 2 - 5, row//2 + 5):\n",
        "        initial[i][j][6] = infected_vector_per_cell\n",
        "\n",
        "# Plotting the initial value matrix\n",
        "im = plt.imshow(get_compartment_values(initial, 6, row, col), cmap='hot', interpolation='nearest')\n",
        "plt.colorbar(im)"
      ],
      "metadata": {
        "colab": {
          "base_uri": "https://localhost:8080/",
          "height": 286
        },
        "id": "Doa5oa2Qy-hk",
        "outputId": "adf6a68d-f001-4f4a-bbe0-f6a43cefa0f4"
      },
      "id": "Doa5oa2Qy-hk",
      "execution_count": null,
      "outputs": [
        {
          "output_type": "execute_result",
          "data": {
            "text/plain": [
              "<matplotlib.colorbar.Colorbar at 0x7fe38345d790>"
            ]
          },
          "metadata": {},
          "execution_count": 22
        },
        {
          "output_type": "display_data",
          "data": {
            "image/png": "[encoded data removed]",
            "text/plain": [
              "<Figure size 432x288 with 2 Axes>"
            ]
          },
          "metadata": {
            "needs_background": "light"
          }
        }
      ]
    },
    {
      "cell_type": "code",
      "execution_count": null,
      "id": "566b9b32",
      "metadata": {
        "id": "566b9b32",
        "colab": {
          "base_uri": "https://localhost:8080/"
        },
        "outputId": "afa94f96-cf98-419c-e42a-8b9387680173"
      },
      "outputs": [
        {
          "output_type": "stream",
          "name": "stdout",
          "text": [
            "Running...\n",
            "1\n",
            "2\n",
            "3\n",
            "4\n",
            "5\n",
            "6\n",
            "7\n",
            "8\n",
            "9\n",
            "10\n",
            "11\n",
            "12\n",
            "13\n",
            "14\n",
            "15\n",
            "16\n"
          ]
        },
        {
          "output_type": "stream",
          "name": "stderr",
          "text": [
            "/usr/local/lib/python3.7/dist-packages/ipykernel_launcher.py:25: RuntimeWarning: overflow encountered in double_scalars\n",
            "/usr/local/lib/python3.7/dist-packages/ipykernel_launcher.py:26: RuntimeWarning: overflow encountered in double_scalars\n",
            "/usr/local/lib/python3.7/dist-packages/ipykernel_launcher.py:30: RuntimeWarning: overflow encountered in double_scalars\n",
            "/usr/local/lib/python3.7/dist-packages/ipykernel_launcher.py:31: RuntimeWarning: overflow encountered in double_scalars\n"
          ]
        },
        {
          "output_type": "stream",
          "name": "stdout",
          "text": [
            "17\n"
          ]
        },
        {
          "output_type": "stream",
          "name": "stderr",
          "text": [
            "/usr/local/lib/python3.7/dist-packages/ipykernel_launcher.py:14: RuntimeWarning: invalid value encountered in double_scalars\n",
            "  \n",
            "/usr/local/lib/python3.7/dist-packages/ipykernel_launcher.py:20: RuntimeWarning: invalid value encountered in double_scalars\n",
            "/usr/local/lib/python3.7/dist-packages/ipykernel_launcher.py:4: RuntimeWarning: invalid value encountered in double_scalars\n",
            "  after removing the cwd from sys.path.\n",
            "/usr/local/lib/python3.7/dist-packages/ipykernel_launcher.py:24: RuntimeWarning: invalid value encountered in add\n",
            "/usr/local/lib/python3.7/dist-packages/ipykernel_launcher.py:6: RuntimeWarning: invalid value encountered in double_scalars\n",
            "  \n",
            "/usr/local/lib/python3.7/dist-packages/ipykernel_launcher.py:5: RuntimeWarning: invalid value encountered in double_scalars\n",
            "  \"\"\"\n",
            "/usr/local/lib/python3.7/dist-packages/ipykernel_launcher.py:31: RuntimeWarning: invalid value encountered in double_scalars\n",
            "/usr/local/lib/python3.7/dist-packages/ipykernel_launcher.py:26: RuntimeWarning: invalid value encountered in double_scalars\n"
          ]
        },
        {
          "output_type": "stream",
          "name": "stdout",
          "text": [
            "18\n",
            "19\n",
            "20\n",
            "21\n",
            "22\n",
            "23\n",
            "24\n",
            "25\n",
            "26\n",
            "27\n",
            "28\n",
            "29\n",
            "30\n",
            "31\n",
            "32\n",
            "33\n",
            "34\n",
            "35\n",
            "36\n",
            "37\n",
            "38\n",
            "39\n",
            "40\n",
            "41\n",
            "42\n",
            "43\n",
            "44\n",
            "45\n",
            "46\n",
            "47\n",
            "48\n",
            "49\n",
            "Done\n"
          ]
        }
      ],
      "source": [
        "import copy \n",
        "\n",
        "# Solution Storage\n",
        "soln = [initial]\n",
        "\n",
        "# SEIR-SEI Storage\n",
        "seir = []\n",
        "\n",
        "# Number of model steps \n",
        "steps = 50\n",
        "\n",
        "print(\"Running...\")\n",
        "for t in range(1, steps):\n",
        "    print(t)\n",
        "    # Last Solution \n",
        "    last_soln = soln[t-1]\n",
        "    \n",
        "    # Latest Solution\n",
        "    latest_soln = [[np.zeros(7) for j in range(col)] for i in range(row)]\n",
        "\n",
        "    for i in range(1, row-1):\n",
        "        for j in range(1, col-1):\n",
        "            # Euler Step \n",
        "            latest_soln[i][j] = last_soln[i][j] + (f(last_soln, i, j, dx, dy) * dt)\n",
        "\n",
        "    # Adding boundary values\n",
        "    for i in [0, row - 1]:\n",
        "        for j in [0, col - 1]:\n",
        "            latest_soln[i][j] = copy.deepcopy(last_soln[i][j])\n",
        "\n",
        "    # Appending latest solution to the storage\n",
        "    soln.append(copy.deepcopy(latest_soln))\n",
        "print(\"Done\")"
      ]
    },
    {
      "cell_type": "code",
      "source": [
        "for time in [0, 10, 20, 30, 40, 49]:\n",
        "    plt.figure()\n",
        "    plt.title(\"t=%i\" %(time))\n",
        "    plt.imshow(get_compartment_values(soln[time], 6, row, col), cmap='hot', interpolation='nearest')\n",
        "    plt.colorbar(im)"
      ],
      "metadata": {
        "colab": {
          "base_uri": "https://localhost:8080/",
          "height": 1000
        },
        "id": "Q8R6tb1BDfwi",
        "outputId": "19711b8f-7ebc-42b2-b0d4-9f5dfe575043"
      },
      "id": "Q8R6tb1BDfwi",
      "execution_count": null,
      "outputs": [
        {
          "output_type": "stream",
          "name": "stderr",
          "text": [
            "/usr/local/lib/python3.7/dist-packages/matplotlib/image.py:455: RuntimeWarning: overflow encountered in double_scalars\n",
            "  newmin = vmid - dv * fact\n",
            "/usr/local/lib/python3.7/dist-packages/matplotlib/image.py:460: RuntimeWarning: overflow encountered in double_scalars\n",
            "  newmax = vmid + dv * fact\n"
          ]
        },
        {
          "output_type": "display_data",
          "data": {
            "image/png": "[encoded data removed]",
            "text/plain": [
              "<Figure size 432x288 with 2 Axes>"
            ]
          },
          "metadata": {
            "needs_background": "light"
          }
        },
        {
          "output_type": "display_data",
          "data": {
            "image/png": "[encoded data removed]",
            "text/plain": [
              "<Figure size 432x288 with 2 Axes>"
            ]
          },
          "metadata": {
            "needs_background": "light"
          }
        },
        {
          "output_type": "display_data",
          "data": {
            "image/png": "[encoded data removed]",
            "text/plain": [
              "<Figure size 432x288 with 2 Axes>"
            ]
          },
          "metadata": {
            "needs_background": "light"
          }
        },
        {
          "output_type": "display_data",
          "data": {
            "image/png": "[encoded data removed]",
            "text/plain": [
              "<Figure size 432x288 with 2 Axes>"
            ]
          },
          "metadata": {
            "needs_background": "light"
          }
        },
        {
          "output_type": "display_data",
          "data": {
            "image/png": "[encoded data removed]",
            "text/plain": [
              "<Figure size 432x288 with 2 Axes>"
            ]
          },
          "metadata": {
            "needs_background": "light"
          }
        },
        {
          "output_type": "display_data",
          "data": {
            "image/png": "[encoded data removed]",
            "text/plain": [
              "<Figure size 432x288 with 2 Axes>"
            ]
          },
          "metadata": {
            "needs_background": "light"
          }
        }
      ]
    },
    {
      "cell_type": "code",
      "source": [
        "labels = {\n",
        "    0: \"s human\",\n",
        "    1: \"e human\",\n",
        "    2: \"i human\", \n",
        "    3: \"r human\", \n",
        "    4: \"s vector\", \n",
        "    5: \"e vector\", \n",
        "    6: \"i vector\"\n",
        "}\n",
        "\n",
        "for state in range(7):\n",
        "    time = []\n",
        "    compartment = []\n",
        "    for t in range(steps):\n",
        "        time.append(t)\n",
        "        compartment.append(get_compartment_total(soln[t], state, row, col))\n",
        "    plt.plot(time, compartment, label=labels[state])\n",
        "plt.legend()"
      ],
      "metadata": {
        "colab": {
          "base_uri": "https://localhost:8080/",
          "height": 327
        },
        "id": "1o7rjQmqz07Q",
        "outputId": "61f50ba3-ae82-444a-80c9-f8fd2ddfe3f0"
      },
      "id": "1o7rjQmqz07Q",
      "execution_count": null,
      "outputs": [
        {
          "output_type": "stream",
          "name": "stderr",
          "text": [
            "/usr/local/lib/python3.7/dist-packages/ipykernel_launcher.py:46: RuntimeWarning: invalid value encountered in double_scalars\n",
            "/usr/local/lib/python3.7/dist-packages/ipykernel_launcher.py:46: RuntimeWarning: overflow encountered in double_scalars\n"
          ]
        },
        {
          "output_type": "execute_result",
          "data": {
            "text/plain": [
              "<matplotlib.legend.Legend at 0x7fe3d5580e10>"
            ]
          },
          "metadata": {},
          "execution_count": 26
        },
        {
          "output_type": "display_data",
          "data": {
            "image/png": "[encoded data removed]",
            "text/plain": [
              "<Figure size 432x288 with 1 Axes>"
            ]
          },
          "metadata": {
            "needs_background": "light"
          }
        }
      ]
    },
    {
      "cell_type": "code",
      "source": [
        "import time \n",
        "\n",
        "for t in [0, 5, 9]:\n",
        "    plt.figure()\n",
        "    plt.imshow(get_compartment_values(soln[t], 2, row, col), cmap='hot', interpolation='nearest')\n",
        "    plt.colorbar(im)"
      ],
      "metadata": {
        "id": "Cqc8UWxn8XG5"
      },
      "id": "Cqc8UWxn8XG5",
      "execution_count": null,
      "outputs": []
    }
  ],
  "metadata": {
    "kernelspec": {
      "display_name": "Python 3",
      "language": "python",
      "name": "python3"
    },
    "language_info": {
      "codemirror_mode": {
        "name": "ipython",
        "version": 3
      },
      "file_extension": ".py",
      "mimetype": "text/x-python",
      "name": "python",
      "nbconvert_exporter": "python",
      "pygments_lexer": "ipython3",
      "version": "3.8.8"
    },
    "colab": {
      "name": "EnE 305 - Solving a Dengue Model (PDE).ipynb",
      "provenance": [],
      "collapsed_sections": []
    }
  },
  "nbformat": 4,
  "nbformat_minor": 5
}