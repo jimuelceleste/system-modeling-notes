{
  "nbformat": 4,
  "nbformat_minor": 0,
  "metadata": {
    "colab": {
      "name": "Sensitivity Analysis.ipynb",
      "provenance": [],
      "collapsed_sections": [],
      "authorship_tag": "ABX9TyMKXdAbtOx2v80xg3uXjsJv",
      "include_colab_link": true
    },
    "kernelspec": {
      "name": "python3",
      "display_name": "Python 3"
    },
    "language_info": {
      "name": "python"
    }
  },
  "cells": [
    {
      "cell_type": "markdown",
      "metadata": {
        "id": "view-in-github",
        "colab_type": "text"
      },
      "source": [
        "<a href=\"https://colab.research.google.com/github/jimuelceleste/system-modeling-notes/blob/main/EnE%20305%20-%20Sensitivity_Analysis.ipynb\" target=\"_parent\"><img src=\"https://colab.research.google.com/assets/colab-badge.svg\" alt=\"Open In Colab\"/></a>"
      ]
    },
    {
      "cell_type": "code",
      "execution_count": null,
      "metadata": {
        "id": "G8vEv5eQdZeQ"
      },
      "outputs": [],
      "source": [
        "# ASQ-SEIR-NLIR \n",
        "import pandas as pd \n",
        "import numpy as np\n",
        "import matplotlib.pyplot as plt \n",
        "\n",
        "def get_asq_seir_nlir(params):\n",
        "    beta = params[\"beta\"]\n",
        "    sigma = params[\"sigma\"]\n",
        "    gamma = params[\"gamma\"]\n",
        "    q = params[\"q\"]\n",
        "    u = params[\"u\"]\n",
        "    alpha = params[\"alpha\"]\n",
        "    epsilon = params[\"epsilon\"]\n",
        "  \n",
        "    def asq_seir_nlir(t, y):\n",
        "        s,e,i,r = y\n",
        "        n = sum(y)\n",
        "        return np.array([\n",
        "            (-beta * q * s * i / n) / ((1 + alpha * s / n) * (1 + epsilon * i / n)), \n",
        "            ((beta * q * s * i / n) / ((1 + alpha * s / n) * (1 + epsilon * i / n))) - sigma * u * e, \n",
        "            sigma * u * e - gamma * i, \n",
        "            gamma * i\n",
        "        ])\n",
        "    return asq_seir_nlir"
      ]
    },
    {
      "cell_type": "code",
      "source": [
        "# Runge-Kutta 4th Order Method\n",
        "def rk4(f, h, t0, y0):\n",
        "    k1 = f(t0, y0)\n",
        "    k2 = f(t0 + h/2, y0 + h * k1/2)\n",
        "    k3 = f(t0 + h/2, y0 + h * k2/2)\n",
        "    k4 = f(t0 + h, y0 + h * k3)\n",
        "    return y0 + 1/6 * h * (k1 + 2*k2 + 2*k3 + k4)"
      ],
      "metadata": {
        "id": "l9uj45APdtBs"
      },
      "execution_count": null,
      "outputs": []
    },
    {
      "cell_type": "code",
      "source": [
        "# Philippine Population as of May 1, 2020 https://psa.gov.ph/population-and-housing/node/166426 \n",
        "ph_pop = 109035343\n",
        "\n",
        "# Fully Vaccinated as of March 30, 2022 https://doh.gov.ph/covid19-vaccination-dashboard\n",
        "fully_vaccinated = 65885048\n",
        "estimated_efficacy = 0.77 # Computations of Nico and Thomas as of January 2022\n",
        "\n",
        "# COVID cases as of April 2, 2022: https://doh.gov.ph/covid19tracker\n",
        "e0 = 0 # assumption\n",
        "i0 = 37115\n",
        "r0 = 3582529 + 59324 + (fully_vaccinated * estimated_efficacy) # recovered + dead + estimated immune \n",
        "s0 = ph_pop - (e0 + i0 + r0)\n",
        "y0 = np.array([s0, e0, i0, r0]) / ph_pop\n",
        "print(y0)"
      ],
      "metadata": {
        "colab": {
          "base_uri": "https://localhost:8080/"
        },
        "id": "kCjSSbSMd076",
        "outputId": "24d8a286-9916-4bbe-a6f0-b97dd706f863"
      },
      "execution_count": null,
      "outputs": [
        {
          "output_type": "stream",
          "name": "stdout",
          "text": [
            "[5.00983319e-01 0.00000000e+00 3.40394215e-04 4.98676287e-01]\n"
          ]
        }
      ]
    },
    {
      "cell_type": "code",
      "source": [
        "# Sample Simulation\n",
        "f = get_asq_seir_nlir({\n",
        "    \"beta\": 2,\n",
        "    \"sigma\": 0.28,\n",
        "    \"gamma\": 0.33, \n",
        "    \"q\": 0.2,\n",
        "    \"u\": 1,\n",
        "    \"alpha\": 0.13,\n",
        "    \"epsilon\": 0.7\n",
        "})\n",
        "\n",
        "seir = [y0]\n",
        "time = [0]\n",
        "dt = 0.25\n",
        "t = dt\n",
        "tn = 700\n",
        "y = y0\n",
        "\n",
        "while t <= tn: \n",
        "    y = rk4(f, dt, t, y)\n",
        "    seir.append(y)\n",
        "    time.append(t)\n",
        "    t += dt \n",
        "\n",
        "seir = pd.DataFrame(seir, columns=[\"S\", \"E\", \"I\", \"R\"])\n",
        "plt.plot(time, seir[\"I\"])"
      ],
      "metadata": {
        "colab": {
          "base_uri": "https://localhost:8080/",
          "height": 282
        },
        "id": "Bls6w8WnN45f",
        "outputId": "2b308796-3795-404d-c3c3-aa1d83b48e28"
      },
      "execution_count": null,
      "outputs": [
        {
          "output_type": "execute_result",
          "data": {
            "text/plain": [
              "[<matplotlib.lines.Line2D at 0x7f131fd2b750>]"
            ]
          },
          "metadata": {},
          "execution_count": 4
        },
        {
          "output_type": "display_data",
          "data": {
            "text/plain": [
              "<Figure size 432x288 with 1 Axes>"
            ],
            "image/png": "[encoded data removed]"
          },
          "metadata": {
            "needs_background": "light"
          }
        }
      ]
    },
    {
      "cell_type": "code",
      "source": [
        "import random \n",
        "from copy import deepcopy\n",
        "\n",
        "# Elementary Effect\n",
        "def elem_effect(y1, y2, delta):\n",
        "    return (y2 - y1) / delta\n",
        "\n",
        "# Number of new infectives \n",
        "def count_new_infectives(s):\n",
        "    return s[0] - s[-1]\n",
        "\n",
        "# Duration of the spread\n",
        "def get_spread_duration(i):\n",
        "    duration = len(i)\n",
        "    for index, element in enumerate(i): \n",
        "      if element <= 0.000001 and duration == len(i):\n",
        "        duration = index\n",
        "    return duration \n",
        "\n",
        "# IVP Solver \n",
        "def solve_ivp(h, tn, y0, t0, f, solver):\n",
        "    \"\"\" \n",
        "      h - time step \n",
        "      tn - maximum time \n",
        "      y0 - initial value \n",
        "      t0 - initial time \n",
        "      f - ODE to solve \n",
        "      solver - solver of choice\n",
        "    \"\"\"\n",
        "    time = [0]\n",
        "    seir = [y0]\n",
        "    t = t0 + h\n",
        "    y = y0 \n",
        "\n",
        "    while t <= tn:\n",
        "        y = solver(f, h, t, y)\n",
        "        time.append(t)\n",
        "        seir.append(y)\n",
        "        t += h\n",
        "    \n",
        "    return pd.DataFrame(seir, columns=[\"S\",\"E\",\"I\",\"R\"]), time"
      ],
      "metadata": {
        "id": "Fmxd3_tfhlcB"
      },
      "execution_count": null,
      "outputs": []
    },
    {
      "cell_type": "code",
      "source": [
        "# Levels of the paramater space\n",
        "p = 10\n",
        "\n",
        "# Parameter Step Size\n",
        "delta = 1 / (p - 1)\n",
        "\n",
        "# Parameter Ranges \n",
        "ranges = {\n",
        "    \"beta\": [2, 3.5 - delta],\n",
        "    \"sigma\": [0.1, 0.14 - delta],\n",
        "    \"gamma\": [0.2, 0.33 - delta], \n",
        "    \"q\": [0, 1 - delta],\n",
        "    \"u\": [0, 1 - delta],\n",
        "    \"alpha\": [0, 1 - delta],\n",
        "    \"epsilon\": [0, 1 - delta]\n",
        "}\n",
        "\n",
        "x = np.arange(0, 1, delta)\n",
        "r = 5 # iterations\n",
        "\n",
        "# Parameters for PH as estimated by Santos, Gabriel Lorenzo (2022)\n",
        "param0 = {\n",
        "    \"beta\": 2,\n",
        "    \"sigma\": 0.28,\n",
        "    \"gamma\": 0.33, \n",
        "    \"q\": 0.2,\n",
        "    \"u\": 1,\n",
        "    \"alpha\": 0.13,\n",
        "    \"epsilon\": 0.7\n",
        "}\n",
        "\n",
        "new_infectives = {\n",
        "    \"beta\": [],\n",
        "    \"sigma\": [],\n",
        "    \"gamma\": [], \n",
        "    \"q\": [],\n",
        "    \"u\": [],\n",
        "    \"alpha\": [],\n",
        "    \"epsilon\": []\n",
        "}\n",
        "\n",
        "durations = deepcopy(new_infectives)\n",
        "\n",
        "for param in [\"beta\", \"sigma\", \"gamma\", \"q\", \"u\", \"alpha\", \"epsilon\"]:\n",
        "    params = deepcopy(param0)\n",
        "\n",
        "    for new_param in x:\n",
        "        params[param] = new_param\n",
        "        f = get_asq_seir_nlir(params)\n",
        "        seir1, _ = solve_ivp(0.25, 1500, y0, 0, f, rk4)\n",
        "        new1 = count_new_infectives(seir1[\"S\"].values)\n",
        "        dur1 = get_spread_duration(seir1[\"I\"].values)\n",
        "        \n",
        "        params[param] += delta\n",
        "        f = get_asq_seir_nlir(params)\n",
        "        seir2, _ = solve_ivp(0.25, 1500, y0, 0, f, rk4)\n",
        "        seir = pd.DataFrame(seir2, columns=[\"S\", \"E\", \"I\", \"R\"])\n",
        "        # plt.plot(seir[\"I\"])\n",
        "        # print(seir[\"I\"].tail())\n",
        "        # break\n",
        "        new2 = count_new_infectives(seir2[\"S\"].values)\n",
        "        dur2 = get_spread_duration(seir2[\"I\"].values )\n",
        "\n",
        "        new_infectives[param].append( elem_effect(new1, new2, delta) )\n",
        "        durations[param].append( elem_effect(dur1, dur2, delta) )\n",
        "\n",
        "        print(dur1, dur2, new1, new2)\n",
        "\n",
        "print(new_infectives)\n",
        "print(durations)"
      ],
      "metadata": {
        "colab": {
          "base_uri": "https://localhost:8080/"
        },
        "id": "hEWnNB1yOyr0",
        "outputId": "eb8a1bc6-74ae-43c1-d4e7-e2f21e114338"
      },
      "execution_count": null,
      "outputs": [
        {
          "output_type": "stream",
          "name": "stdout",
          "text": [
            "71 79 0.0 1.1132641135280785e-05\n",
            "79 86 1.1132641135280785e-05 2.3017868717944978e-05\n",
            "86 94 2.3017868717944978e-05 3.573463598016691e-05\n",
            "94 101 3.573463598016691e-05 4.937333544519085e-05\n",
            "101 109 4.937333544519085e-05 6.403794758425008e-05\n",
            "109 116 6.403794758425008e-05 7.984869240484915e-05\n",
            "116 124 7.984869240484915e-05 9.694532687598567e-05\n",
            "124 133 9.694532687598567e-05 0.00011549127928767167\n",
            "133 142 0.00011549127928767167 0.00013567887925336475\n",
            "71 430 0.00019400774010203126 0.0004509291699036355\n",
            "430 300 0.0004509291699036355 0.0004509184653374021\n",
            "300 253 0.0004509184653374021 0.00045091134738206584\n",
            "253 230 0.00045091134738206584 0.00045090627213728585\n",
            "230 216 0.00045090627213728585 0.00045090247062662403\n",
            "216 207 0.00045090247062662403 0.00045089951681032137\n",
            "207 201 0.00045089951681032137 0.000450897155594987\n",
            "201 196 0.000450897155594987 0.0004508952249052678\n",
            "196 192 0.0004508952249052678 0.00045089361683259277\n",
            "6001 1677 0.5009833191426747 0.3487399038450449\n",
            "1677 1046 0.3487399038450449 0.0018570200566869755\n",
            "1046 266 0.0018570200566869755 0.0004405787471444267\n",
            "266 160 0.0004405787471444267 0.0002497268206201886\n",
            "160 118 0.0002497268206201886 0.00017423625127277464\n",
            "118 95 0.00017423625127277464 0.00013379013539516205\n",
            "95 81 0.00013379013539516205 0.00010858357114018613\n",
            "81 70 0.00010858357114018613 9.136905825912756e-05\n",
            "70 62 9.136905825912756e-05 7.886580588711833e-05\n",
            "71 151 0.0 0.0001577360373954395\n",
            "151 326 0.0001577360373954395 0.0005872881589988888\n",
            "326 2259 0.0005872881589988888 0.005841117043413002\n",
            "2259 1612 0.005841117043413002 0.20336921177209016\n",
            "1612 939 0.20336921177209016 0.324053750794126\n",
            "939 701 0.324053750794126 0.3893150750802896\n",
            "701 577 0.3893150750802896 0.4276876915786697\n",
            "577 500 0.4276876915786697 0.45155231016370545\n",
            "500 448 0.45155231016370545 0.4669904597668126\n",
            "71 924 0.00019400774010203126 0.00045094095559228276\n",
            "924 606 0.00045094095559228276 0.0004509358017014131\n",
            "606 475 0.0004509358017014131 0.0004509314042057122\n",
            "475 403 0.0004509314042057122 0.00045092760891884964\n",
            "403 357 0.00045092760891884964 0.0004509243000750951\n",
            "357 326 0.0004509243000750951 0.0004509213897856412\n",
            "326 303 0.0004509213897856412 0.00045091881012548907\n",
            "303 285 0.00045091881012548907 0.0004509165077903887\n",
            "285 271 0.0004509165077903887 0.00045091444033407146\n",
            "301 275 0.0005254963295128201 0.00046041027990439964\n",
            "275 255 0.00046041027990439964 0.00040965840996853853\n",
            "255 238 0.00040965840996853853 0.0003689779317150865\n",
            "238 225 0.0003689779317150865 0.00033564303329847167\n",
            "225 214 0.00033564303329847167 0.0003078297410303854\n",
            "214 204 0.0003078297410303854 0.0002842715794698636\n",
            "204 196 0.0002842715794698636 0.00026406175948900934\n",
            "196 189 0.00026406175948900934 0.0002465339874316852\n",
            "189 182 0.0002465339874316852 0.000231187712950498\n",
            "271 271 0.0004510007549195505 0.00045098705148005624\n",
            "271 271 0.00045098705148005624 0.0004509733490689616\n",
            "271 271 0.0004509733490689616 0.00045095964768004926\n",
            "271 271 0.00045095964768004926 0.0004509459473098776\n",
            "271 271 0.0004509459473098776 0.00045093224796033393\n",
            "271 271 0.00045093224796033393 0.00045091854963319467\n",
            "271 271 0.00045091854963319467 0.0004509048523291259\n",
            "271 271 0.0004509048523291259 0.0004508911560437978\n",
            "271 271 0.0004508911560437978 0.00045087746078420476\n",
            "{'beta': [0.00010019377021752707, 0.00010696704824397774, 0.00011445090535999736, 0.00012274829518521546, 0.00013198150925153307, 0.0001422967033853917, 0.00015386971024022866, 0.00016691357170517396, 0.00018168839969123773], 'sigma': [0.0023122928682144384, -9.634109610079378e-08, -6.40615980262993e-08, -4.5677203019955925e-08, -3.421359595634499e-08, -2.6584346723979024e-08, -2.125093800930955e-08, -1.7376207472885596e-08, -1.447265407517051e-08], 'gamma': [-1.3701907376786684, -3.1219459540952212, -0.012747971785882939, -0.001717667338718143, -0.0006794151241267254, -0.0003640150428985134, -0.00022685907829478325, -0.00015493061592952717, -0.00011252927134808299], 'q': [0.0014196243365589556, 0.003865969094431043, 0.04728445995972702, 1.7777528525580946, 1.0861608511983227, 0.5873519185754724, 0.34535354848542077, 0.21478156726532172, 0.1389433464279642], 'u': [0.0023123989394122635, -4.638501782672222e-08, -3.95774613082267e-08, -3.415758176306127e-08, -2.9779593790912884e-08, -2.619260508485155e-08, -2.321694136941943e-08, -2.0721015903113482e-08, -1.86071068553062e-08], 'alpha': [-0.0005857744464757841, -0.00045676682942275004, -0.000366124304281068, -0.0003000140857495337, -0.0002503196304127764, -0.00021202345404469636, -0.00018188837982768824, -0.00015774994851591728, -0.00013811647033068475], 'epsilon': [-1.2333095544825312e-07, -1.2332169985196373e-07, -1.2331250021091478e-07, -1.233033315450882e-07, -1.2329414589284937e-07, -1.2328494425339898e-07, -1.2327573661874425e-07, -1.2326656795291768e-07, -1.2325733633744562e-07]}\n",
            "{'beta': [72.0, 63.0, 72.0, 63.0, 72.0, 63.0, 72.0, 81.0, 81.0], 'sigma': [3231.0, -1170.0, -423.0, -207.0, -126.0, -81.0, -54.0, -45.0, -36.0], 'gamma': [-38916.0, -5679.0, -7020.0, -954.0, -378.0, -207.0, -126.0, -99.0, -72.0], 'q': [720.0, 1575.0, 17397.0, -5823.0, -6057.0, -2142.0, -1116.0, -693.0, -468.0], 'u': [7677.0, -2862.0, -1179.0, -648.0, -414.0, -279.0, -207.0, -162.0, -126.0], 'alpha': [-234.0, -180.0, -153.0, -117.0, -99.0, -90.0, -72.0, -63.0, -63.0], 'epsilon': [0.0, 0.0, 0.0, 0.0, 0.0, 0.0, 0.0, 0.0, 0.0]}\n"
          ]
        }
      ]
    },
    {
      "cell_type": "code",
      "source": [
        "for param in [\"beta\", \"sigma\", \"gamma\", \"q\", \"u\", \"alpha\", \"epsilon\"]:\n",
        "    mu = np.mean(np.abs(new_infectives[param])) #* 100\n",
        "    std = np.std(new_infectives[param]) #* 100\n",
        "    print(param, mu, std)\n",
        "    plt.scatter(mu, std, label=param)\n",
        "  \n",
        "plt.legend()\n",
        "plt.xlabel(\"mean\")\n",
        "plt.ylabel(\"standard deviation\") \n",
        "plt.title(\"Number of New Infectives\")\n",
        "# high standard deviation => nonlinear relationship\n",
        "# high mean => influential\n",
        "# gamma = removal rate \n",
        "# q = quarantine\n",
        "# all else, small mean and standard deviations"
      ],
      "metadata": {
        "colab": {
          "base_uri": "https://localhost:8080/",
          "height": 431
        },
        "id": "7Ec4_HGBXHVY",
        "outputId": "d6ceaddf-849d-44f8-8b75-a00ced85519b"
      },
      "execution_count": null,
      "outputs": [
        {
          "output_type": "stream",
          "name": "stdout",
          "text": [
            "beta 0.00013567887925336475 2.620908141975377e-05\n",
            "sigma 0.000256956982872647 0.0007266961113097859\n",
            "gamma 0.5009044533367876 1.0201300515657183\n",
            "q 0.4669904597668126 0.5685625441896456\n",
            "u 0.0002569597307484628 0.0007267262505503014\n",
            "alpha 0.0002943086165623221 0.00014178367371051634\n",
            "epsilon 1.2329413534573064e-07 2.374512326766903e-11\n"
          ]
        },
        {
          "output_type": "execute_result",
          "data": {
            "text/plain": [
              "Text(0.5, 1.0, 'Number of New Infectives')"
            ]
          },
          "metadata": {},
          "execution_count": 17
        },
        {
          "output_type": "display_data",
          "data": {
            "text/plain": [
              "<Figure size 432x288 with 1 Axes>"
            ],
            "image/png": "[encoded data removed]"
          },
          "metadata": {
            "needs_background": "light"
          }
        }
      ]
    },
    {
      "cell_type": "code",
      "source": [
        "for param in [\"beta\", \"sigma\", \"gamma\", \"q\", \"u\", \"alpha\", \"epsilon\"]:\n",
        "    mu = np.mean(np.abs(durations[param])) #* 100\n",
        "    std = np.std(durations[param]) #* 100\n",
        "    print(param, mu, std)\n",
        "    plt.scatter(mu, std, label=param)\n",
        "    # plt.annotate(param, (mu, std))\n",
        "\n",
        "plt.legend()\n",
        "plt.xlabel(\"mean\")\n",
        "plt.ylabel(\"standard deviation\") \n",
        "plt.title(\"Duration of the Disease-spread\")\n",
        "# high standard deviation => nonlinear relationship\n",
        "# high mean => influential\n",
        "# gamma = removal rate \n",
        "# q = quarantine\n",
        "# all else, small mean and standard deviations"
      ],
      "metadata": {
        "colab": {
          "base_uri": "https://localhost:8080/",
          "height": 431
        },
        "id": "hbvHeGGArp8K",
        "outputId": "40ac3bcd-dd73-4703-9c9e-b25ef6d023f9"
      },
      "execution_count": null,
      "outputs": [
        {
          "output_type": "stream",
          "name": "stdout",
          "text": [
            "beta 71.0 6.6332495807108\n",
            "sigma 597.0 1151.1802639030952\n",
            "gamma 5939.0 11924.14785215279\n",
            "q 3999.0 6510.700115962953\n",
            "u 1506.0 2767.0988417474355\n",
            "alpha 119.0 55.60575509783138\n",
            "epsilon 0.0 0.0\n"
          ]
        },
        {
          "output_type": "execute_result",
          "data": {
            "text/plain": [
              "Text(0.5, 1.0, 'Duration of the Disease-spread')"
            ]
          },
          "metadata": {},
          "execution_count": 20
        },
        {
          "output_type": "display_data",
          "data": {
            "text/plain": [
              "<Figure size 432x288 with 1 Axes>"
            ],
            "image/png": "[encoded data removed]"
          },
          "metadata": {
            "needs_background": "light"
          }
        }
      ]
    }
  ]
}