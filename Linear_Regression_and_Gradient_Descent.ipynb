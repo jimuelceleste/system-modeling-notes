{
  "nbformat": 4,
  "nbformat_minor": 0,
  "metadata": {
    "colab": {
      "provenance": [],
      "authorship_tag": "ABX9TyOulA9k4I6+u5c659T6DqD9",
      "include_colab_link": true
    },
    "kernelspec": {
      "name": "python3",
      "display_name": "Python 3"
    },
    "language_info": {
      "name": "python"
    }
  },
  "cells": [
    {
      "cell_type": "markdown",
      "metadata": {
        "id": "view-in-github",
        "colab_type": "text"
      },
      "source": [
        "<a href=\"https://colab.research.google.com/github/jimuelceleste/system-modeling-notes/blob/main/Linear_Regression_and_Gradient_Descent.ipynb\" target=\"_parent\"><img src=\"https://colab.research.google.com/assets/colab-badge.svg\" alt=\"Open In Colab\"/></a>"
      ]
    },
    {
      "cell_type": "markdown",
      "source": [
        "# Linear Regression\n",
        "\n",
        "Objective: Fit data ($(x^{(i)}, y^{(i)})$ where $i=1,...,n$) with the linear model.\n",
        "\n",
        "$$ minimize \\frac{1}{n} \\sum_{i=1}^n (y_\\theta^{(i)} - y^{(i)})^2 $$\n",
        "\n",
        "Approaches: \n",
        "1. Statistics\n",
        "2. Optimization with Gradient Descent"
      ],
      "metadata": {
        "id": "79PGU7bZvEvT"
      }
    },
    {
      "cell_type": "markdown",
      "source": [
        "## Linear Model\n",
        "\n",
        "$y = \\theta_1 + \\theta_2 x$ where $y$ is the target variable and $x$ is the predictor; $\\theta_1$ (intercept) and $\\theta_2$ (slope) are the parameters"
      ],
      "metadata": {
        "id": "a9VFyaZVwJzn"
      }
    },
    {
      "cell_type": "code",
      "source": [
        "import numpy as np\n",
        "import matplotlib.pyplot as plt\n",
        "from scipy.stats import pearsonr\n",
        "import math"
      ],
      "metadata": {
        "id": "28u9jsyyv2jU"
      },
      "execution_count": 1,
      "outputs": []
    },
    {
      "cell_type": "code",
      "execution_count": 2,
      "metadata": {
        "id": "MM2wY5O6u0bj"
      },
      "outputs": [],
      "source": [
        "# the linear model\n",
        "def get_model(theta1, theta2):\n",
        "    def model(x):\n",
        "        return theta1 + theta2 * x\n",
        "    return model "
      ]
    },
    {
      "cell_type": "code",
      "source": [
        "# model\n",
        "theta1 = 1\n",
        "theta2 = 2\n",
        "model = get_model(theta1, theta2)\n",
        "\n",
        "# predictor \n",
        "x = np.arange(10)\n",
        "\n",
        "# target \n",
        "y = model(x)\n",
        "\n",
        "print(x, y)\n",
        "plt.plot(x, y)"
      ],
      "metadata": {
        "colab": {
          "base_uri": "https://localhost:8080/",
          "height": 301
        },
        "id": "G4Ln7dsAvdU-",
        "outputId": "df4bdf37-42ef-4989-ec9d-c3d9481320bd"
      },
      "execution_count": 3,
      "outputs": [
        {
          "output_type": "stream",
          "name": "stdout",
          "text": [
            "[0 1 2 3 4 5 6 7 8 9] [ 1  3  5  7  9 11 13 15 17 19]\n"
          ]
        },
        {
          "output_type": "execute_result",
          "data": {
            "text/plain": [
              "[<matplotlib.lines.Line2D at 0x7f5e887d6880>]"
            ]
          },
          "metadata": {},
          "execution_count": 3
        },
        {
          "output_type": "display_data",
          "data": {
            "text/plain": [
              "<Figure size 432x288 with 1 Axes>"
            ],
            "image/png": "[encoded data removed]"
          },
          "metadata": {
            "needs_background": "light"
          }
        }
      ]
    },
    {
      "cell_type": "markdown",
      "source": [
        "## Cost Function (J): Mean Squared Error \n",
        "$J(\\theta_1, \\theta_2) = \\frac{1}{n} \\sum_{i=1}^n (y_\\theta^{(i)} - y^{(i)})^2$ where n is the size of the dataset, $y_\\theta$ is the hypothesis function, $y$ is the target data, $i$ is the ith element. \n"
      ],
      "metadata": {
        "id": "I0IA-Kf6xM6O"
      }
    },
    {
      "cell_type": "code",
      "source": [
        "def mse(predicted, y, n):\n",
        "    return sum((predicted-y)**2) / n"
      ],
      "metadata": {
        "id": "UUW435gYv7xk"
      },
      "execution_count": 4,
      "outputs": []
    },
    {
      "cell_type": "markdown",
      "source": [
        "## Synthetic Data\n",
        "\n"
      ],
      "metadata": {
        "id": "KiVakhXfV_Tw"
      }
    },
    {
      "cell_type": "code",
      "source": [
        "# synthetic data\n",
        "n = len(x)\n",
        "noise = np.random.random([n])\n",
        "intensity = 10\n",
        "y_noisy = y + noise * intensity\n",
        "\n",
        "plt.scatter(x, y_noisy)"
      ],
      "metadata": {
        "colab": {
          "base_uri": "https://localhost:8080/",
          "height": 283
        },
        "id": "U_3S_SgZzQVT",
        "outputId": "de42d588-ff10-498d-b700-2091a93673ac"
      },
      "execution_count": 5,
      "outputs": [
        {
          "output_type": "execute_result",
          "data": {
            "text/plain": [
              "<matplotlib.collections.PathCollection at 0x7f5e883095b0>"
            ]
          },
          "metadata": {},
          "execution_count": 5
        },
        {
          "output_type": "display_data",
          "data": {
            "text/plain": [
              "<Figure size 432x288 with 1 Axes>"
            ],
            "image/png": "[encoded data removed]"
          },
          "metadata": {
            "needs_background": "light"
          }
        }
      ]
    },
    {
      "cell_type": "markdown",
      "source": [
        "## Approach 1: Statistics \n",
        "\n",
        "Read: [Linear regression and gradient descent for absolute beginners](https://towardsdatascience.com/linear-regression-and-gradient-descent-for-absolute-beginners-eef9574eadb0#:~:text=in%20linear%20regression.-,Gradient%20descent%20is%20an%20algorithm%20that%20approaches%20the%20least%20squared,one%20set%20of%20x%20values)\n",
        "\n",
        "We can use statistics (standard deviation, mean, correlation coefficient) to estimate the parameters of a linear model to fit a dataset: $\\theta_2 = r \\frac{STD(y)}{STD(x)} $ where $r$ is the correlation coefficient between x and y and SD is the standard deviation. "
      ],
      "metadata": {
        "id": "tiPurQPp-M37"
      }
    },
    {
      "cell_type": "code",
      "source": [
        "# Demonstrating this for the same dataset above: noisy y \n",
        "std_x = np.std(x) \n",
        "std_y_noisy = np.std(y_noisy) \n",
        "r,_ = pearsonr(x, y_noisy)\n",
        "theta2_estimate = r * (std_y_noisy / std_x)\n",
        "print(std_x, std_y_noisy, r, theta2_estimate)"
      ],
      "metadata": {
        "colab": {
          "base_uri": "https://localhost:8080/"
        },
        "id": "skPMk65m_KwA",
        "outputId": "cdaab565-8d73-4c24-99f0-3b73e267c5d5"
      },
      "execution_count": 6,
      "outputs": [
        {
          "output_type": "stream",
          "name": "stdout",
          "text": [
            "2.8722813232690143 7.092638292905069 0.9326971077393781 2.303145993549511\n"
          ]
        }
      ]
    },
    {
      "cell_type": "markdown",
      "source": [
        "$\\Rightarrow y = \\theta_1 + 2.34 x$\n",
        "\n",
        "What is $\\theta1$? \"We know that the regression line crosses the point of averages, so one point on the line is (average of x values, average of y values) ([Source](https://towardsdatascience.com/linear-regression-and-gradient-descent-for-absolute-beginners-eef9574eadb0#:~:text=in%20linear%20regression.-,Gradient%20descent%20is%20an%20algorithm%20that%20approaches%20the%20least%20squared,one%20set%20of%20x%20values)).\"\n",
        "\n",
        "$\\theta_1 = y - 2.34 x$"
      ],
      "metadata": {
        "id": "D25kgAEdAPPV"
      }
    },
    {
      "cell_type": "code",
      "source": [
        "mean_x = np.mean(x)\n",
        "mean_y_noisy = np.mean(y_noisy)\n",
        "theta1_estimate = mean_y_noisy - theta2_estimate * mean_x\n",
        "print(mean_x, mean_y_noisy, theta1_estimate)"
      ],
      "metadata": {
        "colab": {
          "base_uri": "https://localhost:8080/"
        },
        "id": "HCOG23cvBsp9",
        "outputId": "846d3df3-255b-4e0c-8d39-e998b1cfb01a"
      },
      "execution_count": 7,
      "outputs": [
        {
          "output_type": "stream",
          "name": "stdout",
          "text": [
            "4.5 15.829284429620301 5.465127458647503\n"
          ]
        }
      ]
    },
    {
      "cell_type": "markdown",
      "source": [
        "$\\Rightarrow y = 5.29 + 2.34 x$"
      ],
      "metadata": {
        "id": "BKM3ShnZB-GI"
      }
    },
    {
      "cell_type": "code",
      "source": [
        "# model\n",
        "model_pred = get_model(theta1_estimate, theta2_estimate)\n",
        "\n",
        "# predictor \n",
        "x = np.arange(10)\n",
        "\n",
        "# target \n",
        "y_pred = model_pred(x)\n",
        "\n",
        "print(\"theta1, theta2 =\", theta1_estimate, theta2_estimate)\n",
        "plt.plot(x, y_pred, '-', label='fitted model')\n",
        "plt.plot(x, y_noisy, 'o', label='data')\n",
        "plt.legend()"
      ],
      "metadata": {
        "colab": {
          "base_uri": "https://localhost:8080/",
          "height": 301
        },
        "id": "J_dY_LxhCxU_",
        "outputId": "89334930-169a-4bc8-94be-0af15bf9828a"
      },
      "execution_count": 8,
      "outputs": [
        {
          "output_type": "stream",
          "name": "stdout",
          "text": [
            "theta1, theta2 = 5.465127458647503 2.303145993549511\n"
          ]
        },
        {
          "output_type": "execute_result",
          "data": {
            "text/plain": [
              "<matplotlib.legend.Legend at 0x7f5e88286940>"
            ]
          },
          "metadata": {},
          "execution_count": 8
        },
        {
          "output_type": "display_data",
          "data": {
            "text/plain": [
              "<Figure size 432x288 with 1 Axes>"
            ],
            "image/png": "[encoded data removed]"
          },
          "metadata": {
            "needs_background": "light"
          }
        }
      ]
    },
    {
      "cell_type": "code",
      "source": [
        "# MSE\n",
        "print(\"Cost, MSE:\", mse(y_pred, y_noisy, n))\n",
        "print(\"RMSE:\", mse(y_pred, y_noisy, n) ** (1/2))"
      ],
      "metadata": {
        "colab": {
          "base_uri": "https://localhost:8080/"
        },
        "id": "DvQlbhtdDdt3",
        "outputId": "d0b1b935-e035-4be1-adaa-876ac3079db6"
      },
      "execution_count": 9,
      "outputs": [
        {
          "output_type": "stream",
          "name": "stdout",
          "text": [
            "Cost, MSE: 6.543545846257248\n",
            "RMSE: 2.558035544369399\n"
          ]
        }
      ]
    },
    {
      "cell_type": "markdown",
      "source": [
        "## Approach 2: Gradient Descent\n",
        "\n",
        "$ \\theta_{new} = \\theta_{old} - \\alpha \\nabla F(\\theta_{old})$\n",
        "\n",
        "1. Guess $\\theta$ \n",
        "2. Compute cost $J$ \n",
        "3. Update $\\theta$ \n",
        "    - $\\theta_{1\\ new} = \\theta_{1\\ old} - \\alpha (\\frac{1}{m}) \\sum_{i=1}^m (h_{\\theta}(x^{(i)})- y^{(i)})$\n",
        "    -  $\\theta_{2\\ new} = \\theta_{2\\ old} - \\alpha (\\frac{1}{m}) \\sum_{i=1}^m (h_{\\theta}(x^{(i)})- y^{(i)}) (x^{(i)})$\n",
        "4. Repeat 2 and 3 until convergence "
      ],
      "metadata": {
        "id": "hYmErzRu2r0h"
      }
    },
    {
      "cell_type": "code",
      "source": [
        "# initial guess\n",
        "theta1 = 0 \n",
        "theta2 = 1\n",
        "model = get_model(theta1, theta2)\n",
        "\n",
        "# cost: largest number in Python \n",
        "cost = math.inf\n",
        "cost_list = [cost]\n",
        "\n",
        "# step size (alpha), tolerance (defines convergence)\n",
        "step_size = 0.01\n",
        "tolerance = 0\n",
        "convergence = False\n",
        "\n",
        "while not convergence: \n",
        "    new_cost = mse(model(x), y_noisy, n)\n",
        "        \n",
        "    if np.abs(new_cost - cost) <= tolerance: \n",
        "        convergence = True\n",
        "    else: \n",
        "        cost = new_cost \n",
        "        theta1 = theta1 - step_size * (1 / n) * np.sum(model(x) - y_noisy)\n",
        "        theta2 = theta2 - step_size * (1 / n) * np.sum((model(x) - y_noisy) * x)\n",
        "        model = get_model(theta1, theta2)\n",
        "\n",
        "    cost_list.append(cost)\n",
        "\n",
        "print(\"iterations before convergence:\", len(cost_list))\n",
        "print(\"theta1, theta2 =\", [theta1, theta2])\n",
        "print(\"Cost, MSE:\", mse(model(x), y_noisy, n))\n",
        "print(\"RMSE:\", mse(model(x), y_noisy, n) ** (1/2))\n",
        "\n",
        "plt.title(\"Cost\")\n",
        "plt.xlabel(\"iteration\")\n",
        "plt.ylabel(\"cost\")\n",
        "plt.plot(np.arange(len(cost_list)), cost_list)"
      ],
      "metadata": {
        "colab": {
          "base_uri": "https://localhost:8080/",
          "height": 384
        },
        "id": "d6z4KObi74wk",
        "outputId": "300b498f-8cb1-42c7-8fea-a974b51c6df6"
      },
      "execution_count": 10,
      "outputs": [
        {
          "output_type": "stream",
          "name": "stdout",
          "text": [
            "iterations before convergence: 5234\n",
            "theta1, theta2 = [5.465125531867708, 2.303146300822203]\n",
            "Cost, MSE: 6.543545846258324\n",
            "RMSE: 2.5580355443696092\n"
          ]
        },
        {
          "output_type": "execute_result",
          "data": {
            "text/plain": [
              "[<matplotlib.lines.Line2D at 0x7f5e88223b20>]"
            ]
          },
          "metadata": {},
          "execution_count": 10
        },
        {
          "output_type": "display_data",
          "data": {
            "text/plain": [
              "<Figure size 432x288 with 1 Axes>"
            ],
            "image/png": "[encoded data removed]"
          },
          "metadata": {
            "needs_background": "light"
          }
        }
      ]
    },
    {
      "cell_type": "code",
      "source": [
        "y_pred = model(x)\n",
        "\n",
        "plt.plot(x, y_pred, '-', label='fitted model')\n",
        "plt.plot(x, y_noisy, 'o', label='data')\n",
        "plt.legend()"
      ],
      "metadata": {
        "colab": {
          "base_uri": "https://localhost:8080/",
          "height": 283
        },
        "id": "m8rQ8QGFTKoG",
        "outputId": "1a5edc87-e3c5-4ec0-9cbd-20c44d64be2b"
      },
      "execution_count": 11,
      "outputs": [
        {
          "output_type": "execute_result",
          "data": {
            "text/plain": [
              "<matplotlib.legend.Legend at 0x7f5e881f6ac0>"
            ]
          },
          "metadata": {},
          "execution_count": 11
        },
        {
          "output_type": "display_data",
          "data": {
            "text/plain": [
              "<Figure size 432x288 with 1 Axes>"
            ],
            "image/png": "[encoded data removed]"
          },
          "metadata": {
            "needs_background": "light"
          }
        }
      ]
    }
  ]
}